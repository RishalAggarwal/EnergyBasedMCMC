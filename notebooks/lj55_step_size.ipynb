{
 "cells": [
  {
   "cell_type": "code",
   "execution_count": 1,
   "metadata": {},
   "outputs": [],
   "source": [
    "import os\n",
    "#set cuda device = 1\n",
    "os.environ[\"CUDA_VISIBLE_DEVICES\"] = \"1\""
   ]
  },
  {
   "cell_type": "code",
   "execution_count": 2,
   "metadata": {},
   "outputs": [],
   "source": [
    "import torch\n",
    "import numpy as np\n",
    "import seaborn as sns\n",
    "import matplotlib.pyplot as plt\n",
    "import tqdm\n",
    "from typing import Optional, Tuple, Union"
   ]
  },
  {
   "cell_type": "code",
   "execution_count": 3,
   "metadata": {},
   "outputs": [],
   "source": [
    "import sys\n",
    "sys.path.append('..')"
   ]
  },
  {
   "cell_type": "code",
   "execution_count": 4,
   "metadata": {},
   "outputs": [],
   "source": [
    "from dem.energies.lennardjones_energy import LennardJonesEnergy"
   ]
  },
  {
   "cell_type": "code",
   "execution_count": 9,
   "metadata": {},
   "outputs": [],
   "source": [
    "lj55_dist=LennardJonesEnergy(\n",
    "            dimensionality= 165,\n",
    "            n_particles= 55,\n",
    "            data_path= \"../data/test_split_LJ55-1000-part1.npy\",\n",
    "            data_path_train= \"../data/train_split_LJ55-1000-part1.npy\",\n",
    "            data_path_val= \"../data/test_split_LJ55-1000-part1.npy\",\n",
    "            device='cuda',\n",
    "            data_normalization_factor= 1.0,\n",
    "            is_molecule= True)\n",
    "test_set = lj55_dist.setup_test_set()"
   ]
  },
  {
   "cell_type": "code",
   "execution_count": 25,
   "metadata": {},
   "outputs": [
    {
     "name": "stdout",
     "output_type": "stream",
     "text": [
      "std 0.025\n"
     ]
    },
    {
     "name": "stderr",
     "output_type": "stream",
     "text": [
      "  0%|          | 0/10000 [00:00<?, ?it/s]"
     ]
    },
    {
     "name": "stderr",
     "output_type": "stream",
     "text": [
      "100%|██████████| 10000/10000 [04:29<00:00, 37.09it/s]\n"
     ]
    },
    {
     "name": "stdout",
     "output_type": "stream",
     "text": [
      "acceptance rate 0.0163484\n",
      "std 0.0125\n"
     ]
    },
    {
     "name": "stderr",
     "output_type": "stream",
     "text": [
      "100%|██████████| 10000/10000 [04:29<00:00, 37.07it/s]\n"
     ]
    },
    {
     "name": "stdout",
     "output_type": "stream",
     "text": [
      "acceptance rate 0.1515259\n",
      "std 0.01\n"
     ]
    },
    {
     "name": "stderr",
     "output_type": "stream",
     "text": [
      "100%|██████████| 10000/10000 [04:29<00:00, 37.10it/s]\n"
     ]
    },
    {
     "name": "stdout",
     "output_type": "stream",
     "text": [
      "acceptance rate 0.24348605\n",
      "std 0.0075\n"
     ]
    },
    {
     "name": "stderr",
     "output_type": "stream",
     "text": [
      "100%|██████████| 10000/10000 [04:29<00:00, 37.12it/s]\n"
     ]
    },
    {
     "name": "stdout",
     "output_type": "stream",
     "text": [
      "acceptance rate 0.37665465\n",
      "std 0.005\n"
     ]
    },
    {
     "name": "stderr",
     "output_type": "stream",
     "text": [
      "100%|██████████| 10000/10000 [04:29<00:00, 37.11it/s]\n"
     ]
    },
    {
     "name": "stdout",
     "output_type": "stream",
     "text": [
      "acceptance rate 0.54589415\n",
      "std 0.0025\n"
     ]
    },
    {
     "name": "stderr",
     "output_type": "stream",
     "text": [
      "100%|██████████| 10000/10000 [04:29<00:00, 37.13it/s]"
     ]
    },
    {
     "name": "stdout",
     "output_type": "stream",
     "text": [
      "acceptance rate 0.69217014\n"
     ]
    },
    {
     "name": "stderr",
     "output_type": "stream",
     "text": [
      "\n"
     ]
    }
   ],
   "source": [
    "std_dev_list=[0.025,0.0125,0.01,0.0075,0.005,0.0025]\n",
    "for std in std_dev_list:\n",
    "    print('std',std)\n",
    "    inital_samples=torch.randn_like(test_set,device='cuda')\n",
    "    initial_energy=lj55_dist(inital_samples)\n",
    "    acceptance_rate=[]\n",
    "    for i in tqdm.tqdm(range(10000)):\n",
    "        new_samples=inital_samples+torch.randn_like(inital_samples)*std\n",
    "        new_energy=lj55_dist(new_samples)\n",
    "        acceptances=torch.exp(new_energy-initial_energy)>torch.rand_like(new_energy)\n",
    "        acceptance_rate.append((acceptances.sum()/len(new_samples)).cpu().numpy())\n",
    "        inital_samples[acceptances]=new_samples[acceptances]\n",
    "        initial_energy[acceptances]=new_energy[acceptances]\n",
    "    acceptance_rate=acceptance_rate[2000:]\n",
    "    print('acceptance rate',np.mean(acceptance_rate))"
   ]
  }
 ],
 "metadata": {
  "kernelspec": {
   "display_name": "rebyob",
   "language": "python",
   "name": "python3"
  },
  "language_info": {
   "codemirror_mode": {
    "name": "ipython",
    "version": 3
   },
   "file_extension": ".py",
   "mimetype": "text/x-python",
   "name": "python",
   "nbconvert_exporter": "python",
   "pygments_lexer": "ipython3",
   "version": "3.10.14"
  }
 },
 "nbformat": 4,
 "nbformat_minor": 2
}
